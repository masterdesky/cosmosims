{
 "cells": [
  {
   "cell_type": "code",
   "execution_count": null,
   "id": "fa9fa3c4-4868-4f81-a7e9-1d1bcbedd271",
   "metadata": {},
   "outputs": [],
   "source": [
    "import os\n",
    "import re\n",
    "import sys\n",
    "import h5py\n",
    "\n",
    "import numpy as np\n",
    "import matplotlib.cm as cm\n",
    "import matplotlib.pyplot as plt\n",
    "from matplotlib import gridspec\n",
    "from matplotlib.ticker import FormatStrFormatter"
   ]
  },
  {
   "cell_type": "code",
   "execution_count": null,
   "id": "4f8acd8e-7654-45c9-9bc2-a992e50386e6",
   "metadata": {},
   "outputs": [],
   "source": [
    "RES      = 64    # Resolution of the grid itself\n",
    "LBOX_PER = 1000  # Length of the box\n",
    "GHOST = 6        # Ghost cells in each dimension\n",
    "RES_T = RES + GHOST  # True resolution of the simulation\n",
    "\n",
    "HOME = os.environ['HOME']\n",
    "DATADIR = f'{HOME}/data/EinsteinToolkit/simulations/flrw_R{RES}_L{LBOX_PER}/output-0001/einsteintoolkit'\n",
    "FBASE = \"einsteintoolkit_it\"  # Base name of the output files\n",
    "FILES = sorted([f for f in os.listdir(DATADIR) if re.match(f'^{FBASE}', f)])"
   ]
  },
  {
   "cell_type": "code",
   "execution_count": null,
   "id": "c35fde18-d9f4-421a-bb92-eff9a5355502",
   "metadata": {
    "tags": []
   },
   "outputs": [],
   "source": [
    "# First, use a test file to count variables to allocate data space\n",
    "FNAME     = os.path.join(DATADIR, FILES[-1])\n",
    "file      = h5py.File(FNAME, 'r')\n",
    "keynames  = list(file.keys())[:-1]   # Cut out Parameters & Global Attributes at end\n",
    "ndats     = len(keynames)            # Number of variables we have\n",
    "nsteps    = len(FILES)               # Number of time steps\n",
    "file.close()\n",
    "print(f'We have {ndats} variables, and {nsteps} time steps ')\n",
    "    \n",
    "# Get the data for all iterations and variables\n",
    "print(\"\")\n",
    "print(\"Getting data ... \")\n",
    "print(\"\")\n",
    "data = np.zeros([nsteps, ndats, RES_T, RES_T, RES_T])\n",
    "keynames = []\n",
    "for i, f in enumerate(FILES):\n",
    "    FNAME = os.path.join(DATADIR, f)\n",
    "    file  = h5py.File(FNAME, 'r')\n",
    "    it = re.findall(r'\\d+', f)[0].lstrip('0')\n",
    "    print(f\"it = {it}, file = {FNAME}\")\n",
    "    keylist = list(file.keys())[:-1]\n",
    "    keynames.append(keylist)\n",
    "    for j, key in enumerate(keylist):\n",
    "        print(f\"    getting {key}\")\n",
    "        data[i,j,:,:,:] = np.array(file[key])\n",
    "    file.close()\n",
    "print(\"Done\")"
   ]
  },
  {
   "cell_type": "code",
   "execution_count": null,
   "id": "23012b93-53c1-4bf8-a920-0a4a76120e3a",
   "metadata": {},
   "outputs": [],
   "source": [
    "keylist[13]"
   ]
  },
  {
   "cell_type": "code",
   "execution_count": null,
   "id": "bf5a7ba3-8211-48de-8f18-be2c64891318",
   "metadata": {},
   "outputs": [],
   "source": [
    "ti = data.shape[0] - 1\n",
    "di = 13\n",
    "slc = int(RES_T/2)\n",
    "d = data[ti, di, :, :, slc]"
   ]
  },
  {
   "cell_type": "code",
   "execution_count": null,
   "id": "84b732e5-f63d-47d9-8eb1-14ab7d905da4",
   "metadata": {},
   "outputs": [],
   "source": [
    "nr, nc = 1, 2\n",
    "fig, axes = plt.subplots(nr, nc, figsize=(nc*8, nr*8))\n",
    "\n",
    "for ax in axes.flat:\n",
    "    ax.axis('off')\n",
    "axes[0].imshow(np.log10(d), interpolation='bicubic')\n",
    "axes[1].imshow(np.fft.fft2(d).real, interpolation='bicubic')\n",
    "plt.show()"
   ]
  },
  {
   "cell_type": "code",
   "execution_count": null,
   "id": "69b8cbad-41ef-4dc2-96ce-fd2c47a437a8",
   "metadata": {},
   "outputs": [],
   "source": [
    "data[ti, di, :, :, :].shape"
   ]
  },
  {
   "cell_type": "code",
   "execution_count": null,
   "id": "82a11982-4799-49a7-bdf9-07f1e1c7c85b",
   "metadata": {},
   "outputs": [],
   "source": [
    "freqs_1 = np.abs(np.fft.fftfreq(ps.size, 1/(time_spectrum_1.size/t_1_spectrum)))\n",
    "idx_1 = np.argsort(freqs_1)"
   ]
  },
  {
   "cell_type": "code",
   "execution_count": null,
   "id": "9ffbe25f-5dc9-4025-ad16-2fc526982484",
   "metadata": {},
   "outputs": [],
   "source": [
    "def plot_tile(data, keynames, ti, di):\n",
    "    \n",
    "    #ti : Index of time to look at\n",
    "    #di : Index of variable to look at\n",
    "    try:\n",
    "        print(f\"Plotting {keynames[ti][di]}\")\n",
    "    except:\n",
    "        print(f\"ERROR: variable number {di} doesn't exist\")\n",
    "\n",
    "    # Look at a slice in the middle of the simulation box\n",
    "    slc = int(RES_T/2)\n",
    "    plt.figure(figsize=[10, 8])\n",
    "    im = plt.imshow(np.log10(data[ti, di, :, :, slc]), interpolation='bicubic',\n",
    "                    cmap=cm.magma)\n",
    "    plt.colorbar(im)\n",
    "    plt.show()"
   ]
  }
 ],
 "metadata": {
  "kernelspec": {
   "display_name": "Python 3 (ipykernel)",
   "language": "python",
   "name": "python3"
  },
  "language_info": {
   "codemirror_mode": {
    "name": "ipython",
    "version": 3
   },
   "file_extension": ".py",
   "mimetype": "text/x-python",
   "name": "python",
   "nbconvert_exporter": "python",
   "pygments_lexer": "ipython3",
   "version": "3.8.13"
  }
 },
 "nbformat": 4,
 "nbformat_minor": 5
}
