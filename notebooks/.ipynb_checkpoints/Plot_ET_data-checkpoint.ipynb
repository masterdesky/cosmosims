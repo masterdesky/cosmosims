{
 "cells": [
  {
   "cell_type": "code",
   "execution_count": null,
   "metadata": {},
   "outputs": [],
   "source": [
    "import os\n",
    "import re\n",
    "import h5py\n",
    "\n",
    "import numpy as np\n",
    "import matplotlib.cm as cm\n",
    "import matplotlib.pyplot as plt\n",
    "from matplotlib import gridspec\n",
    "from matplotlib.ticker import FormatStrFormatter\n",
    "from mpl_toolkits.axes_grid1 import make_axes_locatable"
   ]
  },
  {
   "cell_type": "code",
   "execution_count": null,
   "metadata": {},
   "outputs": [],
   "source": [
    "RES      = 128   # Resolution of the grid itself\n",
    "LBOX_PER = 1000  # Length of the box\n",
    "GHOST = 6        # Ghost cells in each dimension\n",
    "RES_T = RES + GHOST  # True resolution of the simulation\n",
    "\n",
    "HOME = os.environ['HOME']\n",
    "FILES = []\n",
    "for i in ['0000', '0001']:\n",
    "    DATADIR = f'{HOME}/data/EinsteinToolkit/simulations/flrw_R{RES}_L{LBOX_PER}/output-{i}/einsteintoolkit'\n",
    "    FBASE = \"einsteintoolkit_it\"  # Base name of the output files\n",
    "    FILES += sorted([os.path.join(DATADIR, f) for f in os.listdir(DATADIR) if re.match(f'^{FBASE}', f)])\n",
    "FILES = [FILES[0], FILES[25], FILES[-1]]"
   ]
  },
  {
   "cell_type": "code",
   "execution_count": null,
   "metadata": {
    "tags": []
   },
   "outputs": [],
   "source": [
    "# First, use a test file to count variables to allocate data space\n",
    "FNAME     = os.path.join(DATADIR, FILES[-1])\n",
    "file      = h5py.File(FNAME, 'r')\n",
    "keynames  = list(file.keys())[:-1]   # Cut out Parameters & Global Attributes at end\n",
    "ndats     = len(keynames)            # Number of variables we have\n",
    "nsteps    = len(FILES)               # Number of time steps\n",
    "file.close()\n",
    "print(f'We have {ndats} variables, and {nsteps} time steps ')\n",
    "    \n",
    "# Get the data for all iterations and variables\n",
    "print(\"\")\n",
    "print(\"Getting data ... \")\n",
    "print(\"\")\n",
    "data = np.zeros([nsteps, ndats, RES_T, RES_T, RES_T])\n",
    "keynames = []\n",
    "for i, FPATH in enumerate(FILES):\n",
    "    FNAME = os.path.basename(FPATH)\n",
    "    file  = h5py.File(FPATH, 'r')\n",
    "    it = re.findall(r'\\d+', FNAME)[0].lstrip('0')\n",
    "    print(f\"it = {it}, file = {FNAME}\")\n",
    "    keylist = list(file.keys())[:-1]\n",
    "    keynames.append(keylist)\n",
    "    for j, key in enumerate(keylist):\n",
    "        print(f\"    getting {key}\")\n",
    "        data[i,j,:,:,:] = np.array(file[key])\n",
    "    file.close()\n",
    "print(\"Done\")"
   ]
  },
  {
   "cell_type": "code",
   "execution_count": null,
   "metadata": {},
   "outputs": [],
   "source": [
    "nr, nc = 1, 3\n",
    "fig, axes = plt.subplots(nr, nc, figsize=(nc*7, nr*7), facecolor='white')\n",
    "fig.subplots_adjust(wspace=0.05)\n",
    "\n",
    "slc = int(RES_T/2)\n",
    "\n",
    "for i, ax in enumerate(axes.flat):\n",
    "    ax.axis('off')\n",
    "    \n",
    "    d = np.log10(data[i, 13, :, :, slc])\n",
    "    im = ax.imshow(d - np.mean(d), interpolation='bicubic',\n",
    "                   cmap=cm.magma)\n",
    "    \n",
    "    divider = make_axes_locatable(ax)\n",
    "    cax = divider.append_axes(\"bottom\", size=\"5%\", pad=0.05)\n",
    "    plt.colorbar(im, cax=cax, orientation='horizontal')\n",
    "\n",
    "TDIR = '/home/masterdesky/GitHub/presentations/cosmology/cosmo-and-machine-learning/presentation/img/'\n",
    "TFNAME = f'ETflrw_R{RES}_L{LBOX_PER}.png'\n",
    "plt.savefig(fname=os.path.join(TDIR, TFNAME),\n",
    "            dpi=200,\n",
    "            bbox_inches='tight',\n",
    "            pad_inches=0.1)\n",
    "    \n",
    "plt.show()"
   ]
  },
  {
   "cell_type": "code",
   "execution_count": null,
   "metadata": {},
   "outputs": [],
   "source": [
    "def calc_g(data, i):\n",
    "    gxx = data[i, 7, :, :, :]\n",
    "    gxy = data[i, 8, :, :, :]\n",
    "    gxz = data[i, 9, :, :, :]\n",
    "    gyy = data[i, 10, :, :, :]\n",
    "    gyz = data[i, 11, :, :, :]\n",
    "    gzz = data[i, 12, :, :, :]\n",
    "\n",
    "    g = np.zeros((*gxx.shape, 3, 3))\n",
    "    g[:,:,:,0,0] = gxx\n",
    "    g[:,:,:,0,1] = g[:,:,:,1,0] = gxy\n",
    "    g[:,:,:,0,2] = g[:,:,:,2,0] = gxz\n",
    "    g[:,:,:,1,1] = gyy\n",
    "    g[:,:,:,1,2] = g[:,:,:,2,1] = gyz\n",
    "    g[:,:,:,2,2] = gzz\n",
    "    \n",
    "    return g"
   ]
  },
  {
   "cell_type": "code",
   "execution_count": null,
   "metadata": {},
   "outputs": [],
   "source": [
    "1088 / 1100 * 5"
   ]
  },
  {
   "cell_type": "code",
   "execution_count": null,
   "metadata": {},
   "outputs": [],
   "source": [
    "gs  = {i  : calc_g(data, i) for i in range(nsteps)}\n",
    "det = {gk : np.linalg.det(gv) for gk, gv in gs.items()}\n",
    "w   = {gk : np.sqrt(np.abs(gv)).sum() / (1000**3) for gk, gv in det.items()}"
   ]
  },
  {
   "cell_type": "code",
   "execution_count": null,
   "metadata": {},
   "outputs": [],
   "source": [
    "gs[1][:,:,:,0,0]"
   ]
  },
  {
   "cell_type": "code",
   "execution_count": null,
   "metadata": {},
   "outputs": [],
   "source": [
    "phi = np.genfromtxt(os.path.join(\n",
    "                        os.path.dirname(DATADIR),\n",
    "                        'init_phi.dat'\n",
    "                    ))\n",
    "phi = phi.reshape(RES+GHOST, RES+GHOST, RES+GHOST)"
   ]
  },
  {
   "cell_type": "code",
   "execution_count": null,
   "metadata": {},
   "outputs": [],
   "source": [
    "1 - 2*phi.reshape(-1)"
   ]
  },
  {
   "cell_type": "code",
   "execution_count": null,
   "metadata": {
    "tags": []
   },
   "outputs": [],
   "source": [
    "g_init.reshape(-1, 3, 3)"
   ]
  },
  {
   "cell_type": "code",
   "execution_count": null,
   "metadata": {
    "tags": []
   },
   "outputs": [],
   "source": [
    "# g = a0^2 * (1 - 2*phi_ijk)\n",
    "(1 / (1 - 2*phi.reshape(-1))) * g_init.reshape(-1, 3, 3)"
   ]
  },
  {
   "cell_type": "code",
   "execution_count": null,
   "metadata": {},
   "outputs": [],
   "source": [
    "w[0]**(1/3)"
   ]
  },
  {
   "cell_type": "code",
   "execution_count": null,
   "metadata": {},
   "outputs": [],
   "source": [
    "(w[1] / w[0])**(1/3)"
   ]
  },
  {
   "cell_type": "code",
   "execution_count": null,
   "metadata": {},
   "outputs": [],
   "source": [
    "slc = int(RES_T/2)"
   ]
  },
  {
   "cell_type": "code",
   "execution_count": null,
   "metadata": {},
   "outputs": [],
   "source": [
    "nr, nc = 1, 2\n",
    "fig, axes = plt.subplots(nr, nc, figsize=(nc*8, nr*8))\n",
    "\n",
    "for i, ax in enumerate(axes.flat):\n",
    "    im = ax.imshow(np.sqrt(np.abs(det[i][:,:,slc])))\n",
    "    \n",
    "    divider = make_axes_locatable(ax)\n",
    "    cax = divider.append_axes(\"right\", size=\"5%\", pad=0.1)\n",
    "    plt.colorbar(im, cax=cax)\n",
    "\n",
    "plt.show()"
   ]
  },
  {
   "cell_type": "code",
   "execution_count": null,
   "metadata": {},
   "outputs": [],
   "source": [
    "def plot_tile(data, keynames, ti, di, log=True):\n",
    "    \n",
    "    #ti : Index of time to look at\n",
    "    #di : Index of variable to look at\n",
    "    try:\n",
    "        print(f\"Plotting {keynames[ti][di]}\")\n",
    "    except:\n",
    "        print(f\"ERROR: variable number {di} doesn't exist\")\n",
    "\n",
    "    # Look at a slice in the middle of the simulation box\n",
    "    slc = int(RES_T/2)\n",
    "    plt.figure(figsize=[10, 8], facecolor='white')\n",
    "    plt.axis('off')\n",
    "    d = data[ti, di, :, :, slc]\n",
    "    if log:\n",
    "        d = np.log10(d)\n",
    "    im = plt.imshow(d - np.mean(d), interpolation='bicubic',\n",
    "                    cmap=cm.magma)\n",
    "    plt.colorbar(im)\n",
    "    plt.show()"
   ]
  },
  {
   "cell_type": "code",
   "execution_count": null,
   "metadata": {},
   "outputs": [],
   "source": [
    "# Look at a slice in the middle of the simulation box\n",
    "slc = int(RES_T/2)\n",
    "plt.figure(figsize=[10, 8], facecolor='white')\n",
    "plt.axis('off')\n",
    "ti = 0\n",
    "d = data[ti, 7, :, :, slc] + data[ti, 10, :, :, slc] + data[ti, 12, :, :, slc]\n",
    "im = plt.imshow(d - np.mean(d), interpolation='bicubic',\n",
    "                cmap=cm.magma)\n",
    "plt.colorbar(im)\n",
    "plt.show()"
   ]
  },
  {
   "cell_type": "code",
   "execution_count": null,
   "metadata": {},
   "outputs": [],
   "source": [
    "plot_tile(data, keynames, ti=2, di=13)"
   ]
  },
  {
   "cell_type": "code",
   "execution_count": null,
   "metadata": {},
   "outputs": [],
   "source": [
    "plot_tile(data, keynames, ti=37, di=13)"
   ]
  },
  {
   "cell_type": "code",
   "execution_count": null,
   "metadata": {},
   "outputs": [],
   "source": [
    "plot_tile(data, keynames, ti=1, di=12, log=False)"
   ]
  },
  {
   "cell_type": "code",
   "execution_count": null,
   "metadata": {},
   "outputs": [],
   "source": [
    "plot_tile(data, keynames, ti=1, di=14, log=False)"
   ]
  },
  {
   "cell_type": "code",
   "execution_count": null,
   "metadata": {},
   "outputs": [],
   "source": [
    "plot_tile(data, keynames, ti=1, di=15, log=False)"
   ]
  },
  {
   "cell_type": "code",
   "execution_count": null,
   "metadata": {},
   "outputs": [],
   "source": [
    "plot_tile(data, keynames, ti=1, di=16, log=False)"
   ]
  },
  {
   "cell_type": "code",
   "execution_count": null,
   "metadata": {},
   "outputs": [],
   "source": [
    "#\n",
    "# Plot a 1D look at the data as well\n",
    "#\n",
    "ti = 0\n",
    "di = 13\n",
    "plt.figure(figsize=[10,8])\n",
    "plt.plot(data[ti ,di, :, slc, slc]);\n",
    "#plt.title(f\"it = {its[ti]}, {keynames[di]}\");"
   ]
  },
  {
   "cell_type": "code",
   "execution_count": null,
   "metadata": {},
   "outputs": [],
   "source": []
  },
  {
   "cell_type": "code",
   "execution_count": null,
   "metadata": {},
   "outputs": [],
   "source": []
  },
  {
   "cell_type": "code",
   "execution_count": null,
   "metadata": {},
   "outputs": [],
   "source": []
  },
  {
   "cell_type": "code",
   "execution_count": null,
   "metadata": {},
   "outputs": [],
   "source": []
  },
  {
   "cell_type": "code",
   "execution_count": null,
   "metadata": {},
   "outputs": [],
   "source": []
  }
 ],
 "metadata": {
  "kernelspec": {
   "display_name": "Python 3 (ipykernel)",
   "language": "python",
   "name": "python3"
  },
  "language_info": {
   "codemirror_mode": {
    "name": "ipython",
    "version": 3
   },
   "file_extension": ".py",
   "mimetype": "text/x-python",
   "name": "python",
   "nbconvert_exporter": "python",
   "pygments_lexer": "ipython3",
   "version": "3.8.13"
  }
 },
 "nbformat": 4,
 "nbformat_minor": 4
}
